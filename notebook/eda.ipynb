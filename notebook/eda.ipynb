{
 "cells": [
  {
   "cell_type": "code",
   "execution_count": 14,
   "id": "fbd68b27",
   "metadata": {},
   "outputs": [],
   "source": [
    "import pandas as pd\n",
    "import numpy as np\n",
    "import matplotlib.pyplot as plt\n",
    "import seaborn as sns\n"
   ]
  },
  {
   "cell_type": "code",
   "execution_count": 15,
   "id": "903287f7",
   "metadata": {},
   "outputs": [
    {
     "name": "stdout",
     "output_type": "stream",
     "text": [
      "Requirement already satisfied: chardet in c:\\users\\fahmi\\appdata\\local\\programs\\python\\python311\\lib\\site-packages (5.2.0)\n"
     ]
    },
    {
     "name": "stderr",
     "output_type": "stream",
     "text": [
      "\n",
      "[notice] A new release of pip available: 22.3 -> 25.1.1\n",
      "[notice] To update, run: python.exe -m pip install --upgrade pip\n"
     ]
    }
   ],
   "source": [
    "!pip install chardet"
   ]
  },
  {
   "cell_type": "code",
   "execution_count": 16,
   "id": "0ee01d74",
   "metadata": {},
   "outputs": [
    {
     "name": "stdout",
     "output_type": "stream",
     "text": [
      "{'encoding': 'ISO-8859-1', 'confidence': 0.728467, 'language': ''}\n"
     ]
    },
    {
     "data": {
      "application/vnd.microsoft.datawrangler.viewer.v0+json": {
       "columns": [
        {
         "name": "Tweet",
         "rawType": "object",
         "type": "string"
        },
        {
         "name": "HS",
         "rawType": "int64",
         "type": "integer"
        },
        {
         "name": "Abusive",
         "rawType": "int64",
         "type": "integer"
        },
        {
         "name": "HS_Individual",
         "rawType": "int64",
         "type": "integer"
        },
        {
         "name": "HS_Group",
         "rawType": "int64",
         "type": "integer"
        },
        {
         "name": "HS_Religion",
         "rawType": "int64",
         "type": "integer"
        },
        {
         "name": "HS_Race",
         "rawType": "int64",
         "type": "integer"
        },
        {
         "name": "HS_Physical",
         "rawType": "int64",
         "type": "integer"
        },
        {
         "name": "HS_Gender",
         "rawType": "int64",
         "type": "integer"
        },
        {
         "name": "HS_Other",
         "rawType": "int64",
         "type": "integer"
        },
        {
         "name": "HS_Weak",
         "rawType": "int64",
         "type": "integer"
        },
        {
         "name": "HS_Moderate",
         "rawType": "int64",
         "type": "integer"
        },
        {
         "name": "HS_Strong",
         "rawType": "int64",
         "type": "integer"
        }
       ],
       "ref": "f04a7049-c87c-4b41-b358-c0c4f0c31bea",
       "rows": [
        [
         "- disaat semua cowok berusaha melacak perhatian gue. loe lantas remehkan perhatian yg gue kasih khusus ke elo. basic elo cowok bego ! ! !'",
         "1",
         "1",
         "1",
         "0",
         "0",
         "0",
         "0",
         "0",
         "1",
         "1",
         "0",
         "0"
        ],
        [
         "RT USER: USER siapa yang telat ngasih tau elu?edan sarap gue bergaul dengan cigax jifla calis sama siapa noh licew juga'",
         "0",
         "1",
         "0",
         "0",
         "0",
         "0",
         "0",
         "0",
         "0",
         "0",
         "0",
         "0"
        ],
        [
         "41. Kadang aku berfikir, kenapa aku tetap percaya pada Tuhan padahal aku selalu jatuh berkali-kali. Kadang aku merasa Tuhan itu ninggalkan aku sendirian. Ketika orangtuaku berencana berpisah, ketika kakakku lebih memilih jadi Kristen. Ketika aku anak ter",
         "0",
         "0",
         "0",
         "0",
         "0",
         "0",
         "0",
         "0",
         "0",
         "0",
         "0",
         "0"
        ],
        [
         "USER USER AKU ITU AKU\\n\\nKU TAU MATAMU SIPIT TAPI DILIAT DARI MANA ITU AKU'",
         "0",
         "0",
         "0",
         "0",
         "0",
         "0",
         "0",
         "0",
         "0",
         "0",
         "0",
         "0"
        ],
        [
         "USER USER Kaum cebong kapir udah keliatan dongoknya dari awal tambah dongok lagi hahahah'",
         "1",
         "1",
         "0",
         "1",
         "1",
         "0",
         "0",
         "0",
         "0",
         "0",
         "1",
         "0"
        ]
       ],
       "shape": {
        "columns": 12,
        "rows": 5
       }
      },
      "text/html": [
       "<div>\n",
       "<style scoped>\n",
       "    .dataframe tbody tr th:only-of-type {\n",
       "        vertical-align: middle;\n",
       "    }\n",
       "\n",
       "    .dataframe tbody tr th {\n",
       "        vertical-align: top;\n",
       "    }\n",
       "\n",
       "    .dataframe thead th {\n",
       "        text-align: right;\n",
       "    }\n",
       "</style>\n",
       "<table border=\"1\" class=\"dataframe\">\n",
       "  <thead>\n",
       "    <tr style=\"text-align: right;\">\n",
       "      <th></th>\n",
       "      <th>HS</th>\n",
       "      <th>Abusive</th>\n",
       "      <th>HS_Individual</th>\n",
       "      <th>HS_Group</th>\n",
       "      <th>HS_Religion</th>\n",
       "      <th>HS_Race</th>\n",
       "      <th>HS_Physical</th>\n",
       "      <th>HS_Gender</th>\n",
       "      <th>HS_Other</th>\n",
       "      <th>HS_Weak</th>\n",
       "      <th>HS_Moderate</th>\n",
       "      <th>HS_Strong</th>\n",
       "    </tr>\n",
       "    <tr>\n",
       "      <th>Tweet</th>\n",
       "      <th></th>\n",
       "      <th></th>\n",
       "      <th></th>\n",
       "      <th></th>\n",
       "      <th></th>\n",
       "      <th></th>\n",
       "      <th></th>\n",
       "      <th></th>\n",
       "      <th></th>\n",
       "      <th></th>\n",
       "      <th></th>\n",
       "      <th></th>\n",
       "    </tr>\n",
       "  </thead>\n",
       "  <tbody>\n",
       "    <tr>\n",
       "      <th>- disaat semua cowok berusaha melacak perhatian gue. loe lantas remehkan perhatian yg gue kasih khusus ke elo. basic elo cowok bego ! ! !'</th>\n",
       "      <td>1</td>\n",
       "      <td>1</td>\n",
       "      <td>1</td>\n",
       "      <td>0</td>\n",
       "      <td>0</td>\n",
       "      <td>0</td>\n",
       "      <td>0</td>\n",
       "      <td>0</td>\n",
       "      <td>1</td>\n",
       "      <td>1</td>\n",
       "      <td>0</td>\n",
       "      <td>0</td>\n",
       "    </tr>\n",
       "    <tr>\n",
       "      <th>RT USER: USER siapa yang telat ngasih tau elu?edan sarap gue bergaul dengan cigax jifla calis sama siapa noh licew juga'</th>\n",
       "      <td>0</td>\n",
       "      <td>1</td>\n",
       "      <td>0</td>\n",
       "      <td>0</td>\n",
       "      <td>0</td>\n",
       "      <td>0</td>\n",
       "      <td>0</td>\n",
       "      <td>0</td>\n",
       "      <td>0</td>\n",
       "      <td>0</td>\n",
       "      <td>0</td>\n",
       "      <td>0</td>\n",
       "    </tr>\n",
       "    <tr>\n",
       "      <th>41. Kadang aku berfikir, kenapa aku tetap percaya pada Tuhan padahal aku selalu jatuh berkali-kali. Kadang aku merasa Tuhan itu ninggalkan aku sendirian. Ketika orangtuaku berencana berpisah, ketika kakakku lebih memilih jadi Kristen. Ketika aku anak ter</th>\n",
       "      <td>0</td>\n",
       "      <td>0</td>\n",
       "      <td>0</td>\n",
       "      <td>0</td>\n",
       "      <td>0</td>\n",
       "      <td>0</td>\n",
       "      <td>0</td>\n",
       "      <td>0</td>\n",
       "      <td>0</td>\n",
       "      <td>0</td>\n",
       "      <td>0</td>\n",
       "      <td>0</td>\n",
       "    </tr>\n",
       "    <tr>\n",
       "      <th>USER USER AKU ITU AKU\\n\\nKU TAU MATAMU SIPIT TAPI DILIAT DARI MANA ITU AKU'</th>\n",
       "      <td>0</td>\n",
       "      <td>0</td>\n",
       "      <td>0</td>\n",
       "      <td>0</td>\n",
       "      <td>0</td>\n",
       "      <td>0</td>\n",
       "      <td>0</td>\n",
       "      <td>0</td>\n",
       "      <td>0</td>\n",
       "      <td>0</td>\n",
       "      <td>0</td>\n",
       "      <td>0</td>\n",
       "    </tr>\n",
       "    <tr>\n",
       "      <th>USER USER Kaum cebong kapir udah keliatan dongoknya dari awal tambah dongok lagi hahahah'</th>\n",
       "      <td>1</td>\n",
       "      <td>1</td>\n",
       "      <td>0</td>\n",
       "      <td>1</td>\n",
       "      <td>1</td>\n",
       "      <td>0</td>\n",
       "      <td>0</td>\n",
       "      <td>0</td>\n",
       "      <td>0</td>\n",
       "      <td>0</td>\n",
       "      <td>1</td>\n",
       "      <td>0</td>\n",
       "    </tr>\n",
       "  </tbody>\n",
       "</table>\n",
       "</div>"
      ],
      "text/plain": [
       "                                                    HS  Abusive  \\\n",
       "Tweet                                                             \n",
       "- disaat semua cowok berusaha melacak perhatian...   1        1   \n",
       "RT USER: USER siapa yang telat ngasih tau elu?e...   0        1   \n",
       "41. Kadang aku berfikir, kenapa aku tetap perca...   0        0   \n",
       "USER USER AKU ITU AKU\\n\\nKU TAU MATAMU SIPIT TA...   0        0   \n",
       "USER USER Kaum cebong kapir udah keliatan dongo...   1        1   \n",
       "\n",
       "                                                    HS_Individual  HS_Group  \\\n",
       "Tweet                                                                         \n",
       "- disaat semua cowok berusaha melacak perhatian...              1         0   \n",
       "RT USER: USER siapa yang telat ngasih tau elu?e...              0         0   \n",
       "41. Kadang aku berfikir, kenapa aku tetap perca...              0         0   \n",
       "USER USER AKU ITU AKU\\n\\nKU TAU MATAMU SIPIT TA...              0         0   \n",
       "USER USER Kaum cebong kapir udah keliatan dongo...              0         1   \n",
       "\n",
       "                                                    HS_Religion  HS_Race  \\\n",
       "Tweet                                                                      \n",
       "- disaat semua cowok berusaha melacak perhatian...            0        0   \n",
       "RT USER: USER siapa yang telat ngasih tau elu?e...            0        0   \n",
       "41. Kadang aku berfikir, kenapa aku tetap perca...            0        0   \n",
       "USER USER AKU ITU AKU\\n\\nKU TAU MATAMU SIPIT TA...            0        0   \n",
       "USER USER Kaum cebong kapir udah keliatan dongo...            1        0   \n",
       "\n",
       "                                                    HS_Physical  HS_Gender  \\\n",
       "Tweet                                                                        \n",
       "- disaat semua cowok berusaha melacak perhatian...            0          0   \n",
       "RT USER: USER siapa yang telat ngasih tau elu?e...            0          0   \n",
       "41. Kadang aku berfikir, kenapa aku tetap perca...            0          0   \n",
       "USER USER AKU ITU AKU\\n\\nKU TAU MATAMU SIPIT TA...            0          0   \n",
       "USER USER Kaum cebong kapir udah keliatan dongo...            0          0   \n",
       "\n",
       "                                                    HS_Other  HS_Weak  \\\n",
       "Tweet                                                                   \n",
       "- disaat semua cowok berusaha melacak perhatian...         1        1   \n",
       "RT USER: USER siapa yang telat ngasih tau elu?e...         0        0   \n",
       "41. Kadang aku berfikir, kenapa aku tetap perca...         0        0   \n",
       "USER USER AKU ITU AKU\\n\\nKU TAU MATAMU SIPIT TA...         0        0   \n",
       "USER USER Kaum cebong kapir udah keliatan dongo...         0        0   \n",
       "\n",
       "                                                    HS_Moderate  HS_Strong  \n",
       "Tweet                                                                       \n",
       "- disaat semua cowok berusaha melacak perhatian...            0          0  \n",
       "RT USER: USER siapa yang telat ngasih tau elu?e...            0          0  \n",
       "41. Kadang aku berfikir, kenapa aku tetap perca...            0          0  \n",
       "USER USER AKU ITU AKU\\n\\nKU TAU MATAMU SIPIT TA...            0          0  \n",
       "USER USER Kaum cebong kapir udah keliatan dongo...            1          0  "
      ]
     },
     "execution_count": 16,
     "metadata": {},
     "output_type": "execute_result"
    }
   ],
   "source": [
    "import chardet\n",
    "\n",
    "# Baca beberapa byte pertama dari file untuk deteksi\n",
    "with open('../data/data.csv', 'rb') as f:\n",
    "    result = chardet.detect(f.read(10000))  # Baca 10KB pertama\n",
    "    print(result)\n",
    "\n",
    "# Misalnya hasil: {'encoding': 'ISO-8859-1', 'confidence': 0.73}\n",
    "df = pd.read_csv('../data/data.csv', index_col=0, encoding=result['encoding'])\n",
    "\n",
    "\n",
    "df.head()  # Tampilkan beberapa baris pertama dari DataFrame\n"
   ]
  },
  {
   "cell_type": "code",
   "execution_count": 17,
   "id": "62432135",
   "metadata": {},
   "outputs": [
    {
     "name": "stdout",
     "output_type": "stream",
     "text": [
      "Ringkasan Dataset:\n",
      "<class 'pandas.core.frame.DataFrame'>\n",
      "Index: 13169 entries, - disaat semua cowok berusaha melacak perhatian gue. loe lantas remehkan perhatian yg gue kasih khusus ke elo. basic elo cowok bego ! ! !' to USER Mana situ ngasih(\": itu cuma foto ya kutil onta'\n",
      "Data columns (total 12 columns):\n",
      " #   Column         Non-Null Count  Dtype\n",
      "---  ------         --------------  -----\n",
      " 0   HS             13169 non-null  int64\n",
      " 1   Abusive        13169 non-null  int64\n",
      " 2   HS_Individual  13169 non-null  int64\n",
      " 3   HS_Group       13169 non-null  int64\n",
      " 4   HS_Religion    13169 non-null  int64\n",
      " 5   HS_Race        13169 non-null  int64\n",
      " 6   HS_Physical    13169 non-null  int64\n",
      " 7   HS_Gender      13169 non-null  int64\n",
      " 8   HS_Other       13169 non-null  int64\n",
      " 9   HS_Weak        13169 non-null  int64\n",
      " 10  HS_Moderate    13169 non-null  int64\n",
      " 11  HS_Strong      13169 non-null  int64\n",
      "dtypes: int64(12)\n",
      "memory usage: 1.3+ MB\n",
      "None\n"
     ]
    }
   ],
   "source": [
    "\n",
    "# Ringkasan data\n",
    "print(\"Ringkasan Dataset:\")\n",
    "print(df.info())\n"
   ]
  },
  {
   "cell_type": "code",
   "execution_count": 18,
   "id": "bbaa3973",
   "metadata": {},
   "outputs": [
    {
     "name": "stdout",
     "output_type": "stream",
     "text": [
      "\n",
      "Statistik Deskriptif:\n",
      "                 HS       Abusive  HS_Individual      HS_Group   HS_Religion  \\\n",
      "count  13169.000000  13169.000000   13169.000000  13169.000000  13169.000000   \n",
      "mean       0.422280      0.382945       0.271471      0.150809      0.060217   \n",
      "std        0.493941      0.486123       0.444735      0.357876      0.237898   \n",
      "min        0.000000      0.000000       0.000000      0.000000      0.000000   \n",
      "25%        0.000000      0.000000       0.000000      0.000000      0.000000   \n",
      "50%        0.000000      0.000000       0.000000      0.000000      0.000000   \n",
      "75%        1.000000      1.000000       1.000000      0.000000      0.000000   \n",
      "max        1.000000      1.000000       1.000000      1.000000      1.000000   \n",
      "\n",
      "            HS_Race   HS_Physical     HS_Gender      HS_Other       HS_Weak  \\\n",
      "count  13169.000000  13169.000000  13169.000000  13169.000000  13169.000000   \n",
      "mean       0.042980      0.024527      0.023236      0.284000      0.256891   \n",
      "std        0.202819      0.154685      0.150659      0.450954      0.436935   \n",
      "min        0.000000      0.000000      0.000000      0.000000      0.000000   \n",
      "25%        0.000000      0.000000      0.000000      0.000000      0.000000   \n",
      "50%        0.000000      0.000000      0.000000      0.000000      0.000000   \n",
      "75%        0.000000      0.000000      0.000000      1.000000      1.000000   \n",
      "max        1.000000      1.000000      1.000000      1.000000      1.000000   \n",
      "\n",
      "        HS_Moderate     HS_Strong  \n",
      "count  13169.000000  13169.000000  \n",
      "mean       0.129471      0.035918  \n",
      "std        0.335733      0.186092  \n",
      "min        0.000000      0.000000  \n",
      "25%        0.000000      0.000000  \n",
      "50%        0.000000      0.000000  \n",
      "75%        0.000000      0.000000  \n",
      "max        1.000000      1.000000  \n"
     ]
    }
   ],
   "source": [
    "\n",
    "# Statistik deskriptif\n",
    "print(\"\\nStatistik Deskriptif:\")\n",
    "print(df.describe())\n"
   ]
  },
  {
   "cell_type": "code",
   "execution_count": 19,
   "id": "774458c2",
   "metadata": {},
   "outputs": [
    {
     "name": "stdout",
     "output_type": "stream",
     "text": [
      "\n",
      "Distribusi HS dan Abusive:\n",
      "HS  Abusive\n",
      "0   0          5860\n",
      "1   1          3295\n",
      "    0          2266\n",
      "0   1          1748\n",
      "Name: count, dtype: int64\n"
     ]
    }
   ],
   "source": [
    "\n",
    "# Distribusi label utama (HS dan Abusive)\n",
    "print(\"\\nDistribusi HS dan Abusive:\")\n",
    "print(df[['HS', 'Abusive']].value_counts())\n"
   ]
  },
  {
   "cell_type": "code",
   "execution_count": 20,
   "id": "d8f96136",
   "metadata": {},
   "outputs": [
    {
     "data": {
      "image/png": "[encoded data removed]",
      "text/plain": [
       "<Figure size 640x480 with 1 Axes>"
      ]
     },
     "metadata": {},
     "output_type": "display_data"
    }
   ],
   "source": [
    "\n",
    "# Visualisasi distribusi HS dan Abusive\n",
    "df[['HS', 'Abusive']].value_counts().plot(kind='bar', color=['skyblue', 'salmon'])\n",
    "plt.title('Distribusi HS dan Abusive')\n",
    "plt.xlabel('(HS, Abusive)')\n",
    "plt.ylabel('Jumlah')\n",
    "plt.show()\n"
   ]
  },
  {
   "cell_type": "code",
   "execution_count": 21,
   "id": "c4af41d2",
   "metadata": {},
   "outputs": [
    {
     "name": "stdout",
     "output_type": "stream",
     "text": [
      "\n",
      "Distribusi Kategori HS:\n",
      "HS_Other         3740\n",
      "HS_Individual    3575\n",
      "HS_Weak          3383\n",
      "HS_Group         1986\n",
      "HS_Moderate      1705\n",
      "HS_Religion       793\n",
      "HS_Race           566\n",
      "HS_Strong         473\n",
      "HS_Physical       323\n",
      "HS_Gender         306\n",
      "dtype: int64\n"
     ]
    }
   ],
   "source": [
    "\n",
    "# Distribusi kategori HS\n",
    "hs_columns = [\n",
    "    'HS_Individual', 'HS_Group', 'HS_Religion', 'HS_Race',\n",
    "    'HS_Physical', 'HS_Gender', 'HS_Other',\n",
    "    'HS_Weak', 'HS_Moderate', 'HS_Strong'\n",
    "]\n",
    "\n",
    "# Hitung distribusi\n",
    "hs_category_counts = df[hs_columns].sum().sort_values(ascending=False)\n",
    "\n",
    "# Tampilkan distribusi\n",
    "print(\"\\nDistribusi Kategori HS:\")\n",
    "print(hs_category_counts)\n"
   ]
  },
  {
   "cell_type": "code",
   "execution_count": 22,
   "id": "2e16071a",
   "metadata": {},
   "outputs": [
    {
     "data": {
      "image/png": "[encoded data removed]",
      "text/plain": [
       "<Figure size 640x480 with 1 Axes>"
      ]
     },
     "metadata": {},
     "output_type": "display_data"
    }
   ],
   "source": [
    "\n",
    "# Visualisasi distribusi kategori HS\n",
    "hs_category_counts.plot(kind='bar', color='lightgreen')\n",
    "plt.title('Distribusi Kategori Hate Speech')\n",
    "plt.xlabel('Kategori')\n",
    "plt.ylabel('Jumlah')\n",
    "plt.xticks(rotation=45)\n",
    "plt.show()"
   ]
  }
 ],
 "metadata": {
  "kernelspec": {
   "display_name": "Python 3",
   "language": "python",
   "name": "python3"
  },
  "language_info": {
   "codemirror_mode": {
    "name": "ipython",
    "version": 3
   },
   "file_extension": ".py",
   "mimetype": "text/x-python",
   "name": "python",
   "nbconvert_exporter": "python",
   "pygments_lexer": "ipython3",
   "version": "3.11.0"
  }
 },
 "nbformat": 4,
 "nbformat_minor": 5
}
